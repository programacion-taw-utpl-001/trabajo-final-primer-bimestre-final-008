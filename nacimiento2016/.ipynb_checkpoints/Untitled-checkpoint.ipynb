{
 "cells": [
  {
   "cell_type": "code",
   "execution_count": 4,
   "metadata": {},
   "outputs": [
    {
     "name": "stderr",
     "output_type": "stream",
     "text": [
      "/home/tania/Documentos/Entornos/programacion/lib/python3.5/site-packages/IPython/core/interactiveshell.py:2728: DtypeWarning: Columns (1,2,3,5,12,13,14,16,17,27,29,31,32,36,37) have mixed types. Specify dtype option on import or set low_memory=False.\n",
      "  interactivity=interactivity, compiler=compiler, result=result)\n"
     ]
    }
   ],
   "source": [
    "import pandas\n",
    "txt = pandas.read_csv(\"/home/tania/Documentos/proyectoProgramacion/trabajo-final-primer-bimestre-final-008/nacimiento2016/ENV_2016.csv\",encoding=\"cp1252\",sep=\",\")\n",
    "sexo = list((txt[\"sexo\"]))\n",
    "uniSex = list(set(sexo))\n",
    "num1=sexo.count(uniSex[0])\n",
    "num2 = sexo.count(uniSex[1])\n",
    "\n",
    "from bokeh.io import show, output_file\n",
    "from bokeh.models import ColumnDataSource\n",
    "from bokeh.palettes import Spectral6\n",
    "from bokeh.plotting import figure\n",
    "from bokeh.transform import factor_cmap\n",
    "\n",
    "fruits = uniSex\n",
    "counts = [num1,num2]\n",
    "\n",
    "source = ColumnDataSource(data=dict(fruits=fruits, counts=counts))\n",
    "\n",
    "p = figure(x_range=fruits, plot_height=350, toolbar_location=None, title=\"Fruit Counts\")\n",
    "p.vbar(x='fruits', top='counts', width=0.4, source=source, legend=\"fruits\",\n",
    "       line_color='white', fill_color=factor_cmap('fruits', palette=Spectral6, factors=fruits))\n",
    "\n",
    "p.xgrid.grid_line_color = None\n",
    "p.y_range.start = 0\n",
    "p.y_range.end = num1+20000\n",
    "p.legend.orientation = \"horizontal\"\n",
    "p.legend.location = \"top_center\"\n",
    "\n",
    "show(p)\n"
   ]
  },
  {
   "cell_type": "code",
   "execution_count": 7,
   "metadata": {},
   "outputs": [],
   "source": [
    "mes = list((txt[\"mes_nac\"]))\n",
    "uniMes = list(set(mes))\n",
    "num1m=mes.count(uniMes[0])\n",
    "num2m = mes.count(uniMes[1])\n",
    "num3=mes.count(uniMes[2])\n",
    "num4 = mes.count(uniMes[3])\n",
    "num5=mes.count(uniMes[4])\n",
    "num6 = mes.count(uniMes[5])\n",
    "num7=mes.count(uniMes[6])\n",
    "num8 = mes.count(uniMes[7])\n",
    "num9=mes.count(uniMes[8])\n",
    "num10 = mes.count(uniMes[9])\n",
    "num11=mes.count(uniMes[10])\n",
    "num12 = mes.count(uniMes[11])\n",
    "\n",
    "lista=[num1m,num2m,num3,num4,num5,num6,num7,num8,num9,num10,num11,num12]\n",
    "p =   figure(x_range= uniMes, plot_width=1000,plot_height=300, title=\"Numero\", toolbar_location=\"below\", tools=\"\")\n",
    "p.vbar(x=uniMes, top = lista,width=0.6)\n",
    "p.xgrid.grid_line_color= None\n",
    "p.y_range.start=0\n",
    "show(p)"
   ]
  },
  {
   "cell_type": "code",
   "execution_count": 58,
   "metadata": {},
   "outputs": [
    {
     "name": "stdout",
     "output_type": "stream",
     "text": [
      "place1 1135\n",
      "place2 1202\n",
      "place3 936\n",
      "place1 255\n",
      "place2 243\n",
      "place3 208\n",
      "place1 626\n",
      "place2 704\n",
      "place3 633\n",
      "place1 644\n",
      "place2 712\n",
      "place3 616\n",
      "place1 3880\n",
      "place2 4467\n",
      "place3 3858\n",
      "place1 1158\n",
      "place2 1255\n",
      "place3 1082\n"
     ]
    }
   ],
   "source": [
    "div = list(set(list((txt[\"mes_insc\"]))))\n",
    "group = list(set(list((txt[\"prov_insc\"]))))\n",
    "\n",
    "for i in range(6):\n",
    "    print(\"place1\",len(txt[(txt[\"mes_insc\"] == div[0]) & (txt[\"prov_insc\"] == group[i])]))\n",
    "    print(\"place2\",len(txt[(txt[\"mes_insc\"] == div[1]) & (txt[\"prov_insc\"] == group[i])]))\n",
    "    print(\"place3\",len(txt[(txt[\"mes_insc\"] == div[2]) & (txt[\"prov_insc\"] == group[i])]))\n",
    "\n"
   ]
  },
  {
   "cell_type": "code",
   "execution_count": 40,
   "metadata": {},
   "outputs": [],
   "source": [
    "from bokeh.models import ColumnDataSource, FactorRange\n",
    "from bokeh.plotting import figure\n",
    "from bokeh.transform import factor_cmap\n",
    "\n",
    "output_file(\"bar_nested_colormapped.html\")\n",
    "\n",
    "fruits = group[0:6]\n",
    "years = div[0:3]\n",
    "\n",
    "data = {'fruits' : fruits,\n",
    "        'place1'   : [2, 1, 4, 3, 2, 4],\n",
    "        'place2'   : [5, 3, 3, 2, 4, 6],\n",
    "        'place3'   : [3, 2, 4, 4, 5, 3]}\n",
    "\n",
    "palette = [\"#c9d9d3\", \"#718dbf\", \"#e84d60\"]\n",
    "\n",
    "# this creates [ (\"Apples\", \"2015\"), (\"Apples\", \"2016\"), (\"Apples\", \"2017\"), (\"Pears\", \"2015), ... ]\n",
    "x = [ (fruit, year) for fruit in fruits for year in years ]\n",
    "counts = sum(zip(data['place1'], data['place2'], data['place3']), ()) # like an hstack\n",
    "\n",
    "source = ColumnDataSource(data=dict(x=x, counts=counts))\n",
    "\n",
    "p = figure(x_range=FactorRange(*x),  plot_width=1000,plot_height=300, title=\"Fruit Counts by Year\",\n",
    "           toolbar_location=None, tools=\"\")\n",
    "\n",
    "p.vbar(x='x', top='counts', width=0.9, source=source, line_color=\"white\",\n",
    "       fill_color=factor_cmap('x', palette=palette, factors=years, start=1, end=2))\n",
    "\n",
    "p.y_range.start = 0\n",
    "p.x_range.range_padding = 0.1\n",
    "p.xaxis.major_label_orientation = 1\n",
    "p.xgrid.grid_line_color = None\n",
    "\n",
    "show(p)"
   ]
  },
  {
   "cell_type": "code",
   "execution_count": null,
   "metadata": {},
   "outputs": [],
   "source": []
  }
 ],
 "metadata": {
  "kernelspec": {
   "display_name": "Python 3",
   "language": "python",
   "name": "python3"
  },
  "language_info": {
   "codemirror_mode": {
    "name": "ipython",
    "version": 3
   },
   "file_extension": ".py",
   "mimetype": "text/x-python",
   "name": "python",
   "nbconvert_exporter": "python",
   "pygments_lexer": "ipython3",
   "version": "3.5.2+"
  }
 },
 "nbformat": 4,
 "nbformat_minor": 2
}
